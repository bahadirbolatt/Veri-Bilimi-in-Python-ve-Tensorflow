{
 "cells": [
  {
   "cell_type": "code",
   "execution_count": 1,
   "id": "8722f942",
   "metadata": {},
   "outputs": [],
   "source": [
    "def toplama(numara1, numara2):\n",
    "    return numara1 + numara2"
   ]
  },
  {
   "cell_type": "code",
   "execution_count": 4,
   "id": "bc3854bc",
   "metadata": {},
   "outputs": [
    {
     "name": "stdout",
     "output_type": "stream",
     "text": [
      "ilk numarayı giriniz: 45\n",
      "ikinci numarayı giriniz: 5\n",
      "toplam: 50\n"
     ]
    }
   ],
   "source": [
    "x = int(input(\"ilk numarayı giriniz: \"))\n",
    "y = int(input(\"ikinci numarayı giriniz: \"))\n",
    "print(f'toplam:',toplama(x,y))"
   ]
  },
  {
   "cell_type": "markdown",
   "id": "d8ba7fcd",
   "metadata": {},
   "source": [
    "## try & except & else & finally"
   ]
  },
  {
   "cell_type": "code",
   "execution_count": 5,
   "id": "55a345db",
   "metadata": {},
   "outputs": [
    {
     "name": "stdout",
     "output_type": "stream",
     "text": [
      "Numaranızı giriniz: ,\n",
      "lütfen gerçekten numara giriniz.\n",
      "finally çağırıldı\n",
      "Numaranızı giriniz: -\n",
      "lütfen gerçekten numara giriniz.\n",
      "finally çağırıldı\n",
      "Numaranızı giriniz: x\n",
      "lütfen gerçekten numara giriniz.\n",
      "finally çağırıldı\n",
      "Numaranızı giriniz: 45\n",
      "teşekkürler...\n",
      "finally çağırıldı\n"
     ]
    }
   ],
   "source": [
    "while True:\n",
    "    try:\n",
    "        benimInt = int(input(\"Numaranızı giriniz: \"))\n",
    "    except:\n",
    "        print(\"lütfen gerçekten numara giriniz.\")\n",
    "        continue\n",
    "    else:\n",
    "        print(\"teşekkürler...\")\n",
    "        break\n",
    "    finally:\n",
    "        print(\"finally çağırıldı\")"
   ]
  }
 ],
 "metadata": {
  "kernelspec": {
   "display_name": "Python 3 (ipykernel)",
   "language": "python",
   "name": "python3"
  },
  "language_info": {
   "codemirror_mode": {
    "name": "ipython",
    "version": 3
   },
   "file_extension": ".py",
   "mimetype": "text/x-python",
   "name": "python",
   "nbconvert_exporter": "python",
   "pygments_lexer": "ipython3",
   "version": "3.9.12"
  }
 },
 "nbformat": 4,
 "nbformat_minor": 5
}
