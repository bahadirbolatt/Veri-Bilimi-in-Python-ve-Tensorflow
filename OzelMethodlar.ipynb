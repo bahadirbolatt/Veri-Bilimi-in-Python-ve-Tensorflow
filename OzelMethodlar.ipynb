{
 "cells": [
  {
   "cell_type": "markdown",
   "id": "24f1c28d",
   "metadata": {},
   "source": [
    "## Special Methods (Magic Methods)"
   ]
  },
  {
   "cell_type": "code",
   "execution_count": 24,
   "id": "c4afddff",
   "metadata": {},
   "outputs": [],
   "source": [
    "class Meyve():\n",
    "    def __init__(self, isim, kalori):\n",
    "        self.isim = isim\n",
    "        self.kalori = kalori\n",
    "    \n",
    "    def __str__(self):\n",
    "        return f\"{self.isim} şu kadar kaloridir : {self.kalori}\"\n",
    "    \n",
    "    def __len__(self):\n",
    "        return self.kalori"
   ]
  },
  {
   "cell_type": "code",
   "execution_count": 25,
   "id": "bdaf0452",
   "metadata": {},
   "outputs": [],
   "source": [
    "muz = Meyve(\"Muz\",150)"
   ]
  },
  {
   "cell_type": "code",
   "execution_count": 26,
   "id": "7c3e9a55",
   "metadata": {},
   "outputs": [
    {
     "data": {
      "text/plain": [
       "150"
      ]
     },
     "execution_count": 26,
     "metadata": {},
     "output_type": "execute_result"
    }
   ],
   "source": [
    "muz.kalori"
   ]
  },
  {
   "cell_type": "code",
   "execution_count": 29,
   "id": "9f403f52",
   "metadata": {},
   "outputs": [
    {
     "name": "stdout",
     "output_type": "stream",
     "text": [
      "Muz şu kadar kaloridir : 150\n"
     ]
    }
   ],
   "source": [
    "print(muz)"
   ]
  },
  {
   "cell_type": "code",
   "execution_count": 30,
   "id": "af9fd839",
   "metadata": {},
   "outputs": [],
   "source": [
    "benimListem = [1, 2, 3, \"a\", 4.5]"
   ]
  },
  {
   "cell_type": "code",
   "execution_count": 31,
   "id": "a1ef055d",
   "metadata": {},
   "outputs": [
    {
     "name": "stdout",
     "output_type": "stream",
     "text": [
      "[1, 2, 3, 'a', 4.5]\n"
     ]
    }
   ],
   "source": [
    "print(benimListem)"
   ]
  },
  {
   "cell_type": "code",
   "execution_count": 32,
   "id": "c3f60690",
   "metadata": {},
   "outputs": [
    {
     "data": {
      "text/plain": [
       "5"
      ]
     },
     "execution_count": 32,
     "metadata": {},
     "output_type": "execute_result"
    }
   ],
   "source": [
    "len(benimListem)"
   ]
  },
  {
   "cell_type": "code",
   "execution_count": 33,
   "id": "9729ef0e",
   "metadata": {},
   "outputs": [
    {
     "data": {
      "text/plain": [
       "150"
      ]
     },
     "execution_count": 33,
     "metadata": {},
     "output_type": "execute_result"
    }
   ],
   "source": [
    "len(muz)"
   ]
  },
  {
   "cell_type": "code",
   "execution_count": 20,
   "id": "b3bb13db",
   "metadata": {},
   "outputs": [
    {
     "name": "stdout",
     "output_type": "stream",
     "text": [
      "Muz, şu kadar kaloridir : 150\n"
     ]
    }
   ],
   "source": [
    "print(muz)"
   ]
  },
  {
   "cell_type": "code",
   "execution_count": 35,
   "id": "fb2f512a",
   "metadata": {},
   "outputs": [],
   "source": [
    "elma = Meyve(\"Elma\", 200)"
   ]
  },
  {
   "cell_type": "code",
   "execution_count": 36,
   "id": "8a06d27b",
   "metadata": {},
   "outputs": [
    {
     "name": "stdout",
     "output_type": "stream",
     "text": [
      "Elma şu kadar kaloridir : 200\n"
     ]
    }
   ],
   "source": [
    "print(elma)"
   ]
  }
 ],
 "metadata": {
  "kernelspec": {
   "display_name": "Python 3 (ipykernel)",
   "language": "python",
   "name": "python3"
  },
  "language_info": {
   "codemirror_mode": {
    "name": "ipython",
    "version": 3
   },
   "file_extension": ".py",
   "mimetype": "text/x-python",
   "name": "python",
   "nbconvert_exporter": "python",
   "pygments_lexer": "ipython3",
   "version": "3.9.12"
  }
 },
 "nbformat": 4,
 "nbformat_minor": 5
}
