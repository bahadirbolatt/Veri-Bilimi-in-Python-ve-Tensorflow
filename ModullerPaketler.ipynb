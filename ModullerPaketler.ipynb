{
 "cells": [
  {
   "cell_type": "code",
   "execution_count": 6,
   "id": "f91c3985",
   "metadata": {},
   "outputs": [],
   "source": [
    "# Gerekli kütüphanelerin kullanımı. as -- kullanımı kısaltma için.\n",
    "import numpy as np\n",
    "import matplotlib.pyplot as plt"
   ]
  },
  {
   "cell_type": "code",
   "execution_count": 7,
   "id": "7926ee2d",
   "metadata": {},
   "outputs": [
    {
     "data": {
      "text/plain": [
       "3992.9407059124424"
      ]
     },
     "execution_count": 7,
     "metadata": {},
     "output_type": "execute_result"
    }
   ],
   "source": [
    "# 4000 lira civarı, 500 lira standart sapmalı, 1000 tane veri oluşturuyoruz.\n",
    "maasListesi = np.random.normal(4000,500,1000)\n",
    "numpy.mean(maasListesi) # .mean ortalamasını alır."
   ]
  },
  {
   "cell_type": "code",
   "execution_count": 17,
   "id": "2c7f3319",
   "metadata": {
    "scrolled": true
   },
   "outputs": [
    {
     "data": {
      "image/png": "[encoded data removed]",
      "text/plain": [
       "<Figure size 432x288 with 1 Axes>"
      ]
     },
     "metadata": {
      "needs_background": "light"
     },
     "output_type": "display_data"
    }
   ],
   "source": [
    "# Verileri oluşturduk. Histogram olarak görselleştirelim(50 tane).\n",
    "plt.hist(maasListesi, 50)\n",
    "plt.show()"
   ]
  }
 ],
 "metadata": {
  "kernelspec": {
   "display_name": "Python 3 (ipykernel)",
   "language": "python",
   "name": "python3"
  },
  "language_info": {
   "codemirror_mode": {
    "name": "ipython",
    "version": 3
   },
   "file_extension": ".py",
   "mimetype": "text/x-python",
   "name": "python",
   "nbconvert_exporter": "python",
   "pygments_lexer": "ipython3",
   "version": "3.9.12"
  }
 },
 "nbformat": 4,
 "nbformat_minor": 5
}
