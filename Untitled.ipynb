{
 "cells": [
  {
   "cell_type": "code",
   "execution_count": 1,
   "id": "796e106a",
   "metadata": {},
   "outputs": [],
   "source": [
    "#!/usr/bin/env python\n",
    "# coding: utf-8"
   ]
  },
  {
   "cell_type": "code",
   "execution_count": 2,
   "id": "244aaf1e",
   "metadata": {},
   "outputs": [],
   "source": [
    "myList = list()"
   ]
  },
  {
   "cell_type": "code",
   "execution_count": 3,
   "id": "5da52abb",
   "metadata": {},
   "outputs": [
    {
     "data": {
      "text/plain": [
       "list"
      ]
     },
     "execution_count": 3,
     "metadata": {},
     "output_type": "execute_result"
    }
   ],
   "source": [
    "type(myList)"
   ]
  },
  {
   "cell_type": "markdown",
   "id": "5ff4083b",
   "metadata": {},
   "source": [
    "## instance ve attribute\n"
   ]
  },
  {
   "cell_type": "code",
   "execution_count": 4,
   "id": "efc744c4",
   "metadata": {},
   "outputs": [],
   "source": [
    "superKahramanAdi = \"Superman\"\n",
    "superKahramanYasi = 30"
   ]
  },
  {
   "cell_type": "code",
   "execution_count": 5,
   "id": "164ea7d5",
   "metadata": {},
   "outputs": [],
   "source": [
    "class SuperKahraman():\n",
    "    \n",
    "    ozelGuc = \"Görünmezlik\"\n",
    "    \n",
    "    def __init__(self,isim,yas,meslek):\n",
    "        print(\"init cagirilidi\")\n",
    "        self.isim = isim\n",
    "        self.yas = yas\n",
    "        self.meslek = meslek\n",
    "        \n",
    "        \n",
    "    def ornekMethod(self):\n",
    "        print(f\"ben süperkahramanım ve meslegim: {self.meslek}\")"
   ]
  },
  {
   "cell_type": "code",
   "execution_count": 6,
   "id": "15e64367",
   "metadata": {},
   "outputs": [
    {
     "name": "stdout",
     "output_type": "stream",
     "text": [
      "init cagirilidi\n"
     ]
    }
   ],
   "source": [
    "superman = SuperKahraman(\"Superman\",30,\"gazeteci\")"
   ]
  },
  {
   "cell_type": "code",
   "execution_count": 7,
   "id": "0d114047",
   "metadata": {},
   "outputs": [],
   "source": [
    "superman.isim = \"Clark Kent\""
   ]
  },
  {
   "cell_type": "code",
   "execution_count": 8,
   "id": "420744cf",
   "metadata": {},
   "outputs": [
    {
     "data": {
      "text/plain": [
       "'Clark Kent'"
      ]
     },
     "execution_count": 8,
     "metadata": {},
     "output_type": "execute_result"
    }
   ],
   "source": [
    "superman.isim"
   ]
  },
  {
   "cell_type": "code",
   "execution_count": 9,
   "id": "3d39fc46",
   "metadata": {},
   "outputs": [],
   "source": [
    "superman.ozelGuc = \"Uçabilirlik\""
   ]
  },
  {
   "cell_type": "code",
   "execution_count": 10,
   "id": "5bb0a4af",
   "metadata": {},
   "outputs": [
    {
     "data": {
      "text/plain": [
       "'Uçabilirlik'"
      ]
     },
     "execution_count": 10,
     "metadata": {},
     "output_type": "execute_result"
    }
   ],
   "source": [
    "superman.ozelGuc"
   ]
  },
  {
   "cell_type": "code",
   "execution_count": 11,
   "id": "1f243ddf",
   "metadata": {},
   "outputs": [
    {
     "name": "stdout",
     "output_type": "stream",
     "text": [
      "ben süperkahramanım ve meslegim: gazeteci\n"
     ]
    }
   ],
   "source": [
    "superman.ornekMethod()"
   ]
  },
  {
   "cell_type": "code",
   "execution_count": 12,
   "id": "962e1b1d",
   "metadata": {},
   "outputs": [],
   "source": [
    "class Kopek():\n",
    "    \n",
    "    yilCarpani = 7\n",
    "    \n",
    "    def __init__(self,yas=5):\n",
    "        self.yas = yas\n",
    "        self.insanYasinaCevrilmisAttribute = yas * 7\n",
    "    \n",
    "    def insanYasiniHesapla(self):\n",
    "        return self.yas * Kopek.yilCarpani"
   ]
  },
  {
   "cell_type": "code",
   "execution_count": 13,
   "id": "e5815547",
   "metadata": {},
   "outputs": [],
   "source": [
    "benimKopek = Kopek()"
   ]
  },
  {
   "cell_type": "code",
   "execution_count": 15,
   "id": "c80fd323",
   "metadata": {},
   "outputs": [
    {
     "data": {
      "text/plain": [
       "5"
      ]
     },
     "execution_count": 15,
     "metadata": {},
     "output_type": "execute_result"
    }
   ],
   "source": [
    "benimKopek.yas"
   ]
  },
  {
   "cell_type": "code",
   "execution_count": 16,
   "id": "cf8f5219",
   "metadata": {},
   "outputs": [],
   "source": [
    "benimKopek = Kopek(3)"
   ]
  },
  {
   "cell_type": "code",
   "execution_count": 17,
   "id": "e39a2331",
   "metadata": {},
   "outputs": [
    {
     "data": {
      "text/plain": [
       "21"
      ]
     },
     "execution_count": 17,
     "metadata": {},
     "output_type": "execute_result"
    }
   ],
   "source": [
    "benimKopek.insanYasiniHesapla()"
   ]
  },
  {
   "cell_type": "markdown",
   "id": "0c40dc88",
   "metadata": {},
   "source": [
    "### Inheritance"
   ]
  },
  {
   "cell_type": "code",
   "execution_count": 18,
   "id": "7ed00a27",
   "metadata": {},
   "outputs": [],
   "source": [
    "class Hayvan():\n",
    "    def __init__(self):\n",
    "        print(\"hayvan sınıfı init çağırıldı.\")\n",
    "        \n",
    "    def method1(self):\n",
    "        print(\"hayvan sınıfı method1 çağırıldı.\")\n",
    "        \n",
    "    def method2(self):\n",
    "        print(\"hayvan sınıfı method2 çağırıldı.\")"
   ]
  },
  {
   "cell_type": "code",
   "execution_count": 19,
   "id": "5a736970",
   "metadata": {},
   "outputs": [
    {
     "name": "stdout",
     "output_type": "stream",
     "text": [
      "hayvan sınıfı init çağırıldı.\n"
     ]
    }
   ],
   "source": [
    "benimHayvanim = Hayvan()"
   ]
  },
  {
   "cell_type": "code",
   "execution_count": 20,
   "id": "8355050b",
   "metadata": {},
   "outputs": [
    {
     "name": "stdout",
     "output_type": "stream",
     "text": [
      "hayvan sınıfı method1 çağırıldı.\n"
     ]
    }
   ],
   "source": [
    "benimHayvanim.method1()"
   ]
  },
  {
   "cell_type": "code",
   "execution_count": 21,
   "id": "173f4acb",
   "metadata": {},
   "outputs": [
    {
     "name": "stdout",
     "output_type": "stream",
     "text": [
      "hayvan sınıfı method2 çağırıldı.\n"
     ]
    }
   ],
   "source": [
    "benimHayvanim.method2()"
   ]
  },
  {
   "cell_type": "code",
   "execution_count": 22,
   "id": "ae742b21",
   "metadata": {},
   "outputs": [],
   "source": [
    "class Kedi(Hayvan):\n",
    "    def __init__(self):\n",
    "        Hayvan.__init__(self)\n",
    "        print(\"Kedi sınıfı init çağırıldı.\")\n",
    "    \n",
    "    def miyavla(self):\n",
    "        print(\"miyav\")\n",
    "    #override    \n",
    "    def method1(self):\n",
    "        print(\"kedi sınıfındaki method1 çağırıldı\")"
   ]
  },
  {
   "cell_type": "code",
   "execution_count": 23,
   "id": "1375c985",
   "metadata": {},
   "outputs": [
    {
     "name": "stdout",
     "output_type": "stream",
     "text": [
      "hayvan sınıfı init çağırıldı.\n",
      "Kedi sınıfı init çağırıldı.\n"
     ]
    }
   ],
   "source": [
    "benimKedim = Kedi()"
   ]
  },
  {
   "cell_type": "code",
   "execution_count": 24,
   "id": "363267d0",
   "metadata": {},
   "outputs": [
    {
     "name": "stdout",
     "output_type": "stream",
     "text": [
      "kedi sınıfındaki method1 çağırıldı\n"
     ]
    }
   ],
   "source": [
    "benimKedim.method1()"
   ]
  },
  {
   "cell_type": "code",
   "execution_count": 25,
   "id": "65811e48",
   "metadata": {},
   "outputs": [
    {
     "name": "stdout",
     "output_type": "stream",
     "text": [
      "hayvan sınıfı method2 çağırıldı.\n"
     ]
    }
   ],
   "source": [
    "benimKedim.method2()"
   ]
  },
  {
   "cell_type": "code",
   "execution_count": 26,
   "id": "bb780bd6",
   "metadata": {},
   "outputs": [
    {
     "name": "stdout",
     "output_type": "stream",
     "text": [
      "miyav\n"
     ]
    }
   ],
   "source": [
    "benimKedim.miyavla()"
   ]
  },
  {
   "cell_type": "code",
   "execution_count": 27,
   "id": "ae187633",
   "metadata": {},
   "outputs": [
    {
     "name": "stdout",
     "output_type": "stream",
     "text": [
      "hayvan sınıfı init çağırıldı.\n"
     ]
    }
   ],
   "source": [
    "digerHayvan = Hayvan()"
   ]
  },
  {
   "cell_type": "code",
   "execution_count": 28,
   "id": "5419a0ba",
   "metadata": {},
   "outputs": [
    {
     "name": "stdout",
     "output_type": "stream",
     "text": [
      "hayvan sınıfı method1 çağırıldı.\n"
     ]
    }
   ],
   "source": [
    "digerHayvan.method1()"
   ]
  },
  {
   "cell_type": "code",
   "execution_count": 29,
   "id": "74bfd311",
   "metadata": {},
   "outputs": [
    {
     "name": "stdout",
     "output_type": "stream",
     "text": [
      "hayvan sınıfı init çağırıldı.\n",
      "Kedi sınıfı init çağırıldı.\n"
     ]
    }
   ],
   "source": [
    "digerKedi = Kedi()"
   ]
  },
  {
   "cell_type": "code",
   "execution_count": 30,
   "id": "7a7bab4e",
   "metadata": {},
   "outputs": [
    {
     "name": "stdout",
     "output_type": "stream",
     "text": [
      "kedi sınıfındaki method1 çağırıldı\n"
     ]
    }
   ],
   "source": [
    "digerKedi.method1()"
   ]
  },
  {
   "cell_type": "markdown",
   "id": "92670e8f",
   "metadata": {},
   "source": [
    "# Polymorphism"
   ]
  },
  {
   "cell_type": "code",
   "execution_count": 31,
   "id": "33180507",
   "metadata": {},
   "outputs": [],
   "source": [
    "class Elma():\n",
    "    def __init__(self, isim):\n",
    "        self.isim = isim\n",
    "        \n",
    "    def bilgiVer(self):\n",
    "        return self.isim + \" 100 kaloridir \""
   ]
  },
  {
   "cell_type": "code",
   "execution_count": 32,
   "id": "9ce72beb",
   "metadata": {},
   "outputs": [],
   "source": [
    "class Muz():\n",
    "    def __init__(self, isim):\n",
    "        self.isim = isim\n",
    "        \n",
    "    def bilgiVer(self):\n",
    "        return self.isim + \" 160 kaloridir \""
   ]
  },
  {
   "cell_type": "code",
   "execution_count": 34,
   "id": "aa0afa4d",
   "metadata": {},
   "outputs": [],
   "source": [
    "elma = Elma(\"elma\")"
   ]
  },
  {
   "cell_type": "code",
   "execution_count": 35,
   "id": "ac8881df",
   "metadata": {},
   "outputs": [
    {
     "data": {
      "text/plain": [
       "'elma 100 kaloridir '"
      ]
     },
     "execution_count": 35,
     "metadata": {},
     "output_type": "execute_result"
    }
   ],
   "source": [
    "elma.bilgiVer()"
   ]
  },
  {
   "cell_type": "code",
   "execution_count": 36,
   "id": "6d2e08e3",
   "metadata": {},
   "outputs": [],
   "source": [
    "muz = Muz(\"muz\")"
   ]
  },
  {
   "cell_type": "code",
   "execution_count": 37,
   "id": "def2c879",
   "metadata": {},
   "outputs": [
    {
     "data": {
      "text/plain": [
       "'muz 160 kaloridir '"
      ]
     },
     "execution_count": 37,
     "metadata": {},
     "output_type": "execute_result"
    }
   ],
   "source": [
    "muz.bilgiVer()"
   ]
  },
  {
   "cell_type": "code",
   "execution_count": 38,
   "id": "d1917edd",
   "metadata": {},
   "outputs": [],
   "source": [
    "meyveListesi = [elma,muz]"
   ]
  },
  {
   "cell_type": "code",
   "execution_count": 39,
   "id": "8bd3ab08",
   "metadata": {},
   "outputs": [
    {
     "name": "stdout",
     "output_type": "stream",
     "text": [
      "elma 100 kaloridir \n",
      "muz 160 kaloridir \n"
     ]
    }
   ],
   "source": [
    "for meyve in meyveListesi:\n",
    "    print(meyve.bilgiVer())"
   ]
  },
  {
   "cell_type": "code",
   "execution_count": 40,
   "id": "fbcde7e4",
   "metadata": {},
   "outputs": [],
   "source": [
    "def bilgiAl(meyve):\n",
    "    print(meyve.bilgiVer())"
   ]
  },
  {
   "cell_type": "code",
   "execution_count": 41,
   "id": "17c48563",
   "metadata": {},
   "outputs": [
    {
     "name": "stdout",
     "output_type": "stream",
     "text": [
      "muz 160 kaloridir \n"
     ]
    }
   ],
   "source": [
    "bilgiAl(muz)"
   ]
  },
  {
   "cell_type": "code",
   "execution_count": 42,
   "id": "a55e2e83",
   "metadata": {},
   "outputs": [
    {
     "name": "stdout",
     "output_type": "stream",
     "text": [
      "elma 100 kaloridir \n"
     ]
    }
   ],
   "source": [
    "bilgiAl(elma)"
   ]
  }
 ],
 "metadata": {
  "kernelspec": {
   "display_name": "Python 3 (ipykernel)",
   "language": "python",
   "name": "python3"
  },
  "language_info": {
   "codemirror_mode": {
    "name": "ipython",
    "version": 3
   },
   "file_extension": ".py",
   "mimetype": "text/x-python",
   "name": "python",
   "nbconvert_exporter": "python",
   "pygments_lexer": "ipython3",
   "version": "3.9.12"
  }
 },
 "nbformat": 4,
 "nbformat_minor": 5
}
